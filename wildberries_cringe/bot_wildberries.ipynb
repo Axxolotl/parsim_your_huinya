{
 "cells": [
  {
   "cell_type": "code",
   "execution_count": 21,
   "id": "2cd129d8",
   "metadata": {},
   "outputs": [],
   "source": [
    "import telebot\n",
    "from telebot import types\n",
    "\n",
    "import time\n",
    "\n",
    "token = '2085419627:AAFaAvnPisevlhyEfpG1m8rA8kmYRlKnXG4'\n",
    "bot = telebot.TeleBot(token=token, parse_mode=None)"
   ]
  },
  {
   "cell_type": "code",
   "execution_count": 22,
   "id": "33e18fa1",
   "metadata": {},
   "outputs": [],
   "source": [
    "@bot.message_handler(commands=['start'])\n",
    "def start(message):\n",
    "    text = '''Привет!\\n Рада, что ты решил(а) провести четверг с пользой и сделал(а) первый шаг на пути к новой жизни.\\n\\n\n",
    "    Для регистрации на открытый вебинар в zoom «Как новичку или действующему поставщику выйти на миллион без рисков» \n",
    "    остался один шаг:\\n\\nНапиши <b> корректно свой номер телефона </b> в ответ на это сообщение.\\n\\n\n",
    "    Сразу после тебе придёт ссылка на канал вебинара.\n",
    "            '''\n",
    "    bot.send_message(message.chat.id, text, parse_mode=\"HTML\")"
   ]
  },
  {
   "cell_type": "code",
   "execution_count": 23,
   "id": "3bd5c8e0",
   "metadata": {},
   "outputs": [
    {
     "name": "stderr",
     "output_type": "stream",
     "text": [
      "2022-12-17 14:05:16,346 (__init__.py:884 MainThread) ERROR - TeleBot: \"Infinity polling: polling exited\"\n",
      "2022-12-17 14:05:16,348 (__init__.py:886 MainThread) ERROR - TeleBot: \"Break infinity polling\"\n"
     ]
    }
   ],
   "source": [
    "bot.infinity_polling()"
   ]
  },
  {
   "cell_type": "code",
   "execution_count": null,
   "id": "bdb63e98",
   "metadata": {},
   "outputs": [],
   "source": []
  }
 ],
 "metadata": {
  "kernelspec": {
   "display_name": "Python 3 (ipykernel)",
   "language": "python",
   "name": "python3"
  },
  "language_info": {
   "codemirror_mode": {
    "name": "ipython",
    "version": 3
   },
   "file_extension": ".py",
   "mimetype": "text/x-python",
   "name": "python",
   "nbconvert_exporter": "python",
   "pygments_lexer": "ipython3",
   "version": "3.9.7"
  }
 },
 "nbformat": 4,
 "nbformat_minor": 5
}
